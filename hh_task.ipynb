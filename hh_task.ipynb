{
 "cells": [
  {
   "cell_type": "code",
   "execution_count": 5,
   "metadata": {},
   "outputs": [
    {
     "name": "stdout",
     "output_type": "stream",
     "text": [
      "[1, 4, 2, 8, 5, 7]   [5, 7, 1, 4, 2, 8]   [7, 1, 4, 2, 8, 5]\n"
     ]
    }
   ],
   "source": [
    "import collections\n",
    "\n",
    "x = 0\n",
    "lst = []\n",
    "lst4 = []\n",
    "lst5 = []\n",
    "chkg = False\n",
    "while not chkg:\n",
    "    x += 1\n",
    "    lst = [int(i) for i in str(x)]\n",
    "    lst4 = [int(i) for i in str(x * 4)]\n",
    "    lst5 = [int(i) for i in str(x * 5)]\n",
    "    \n",
    "    chkg = collections.Counter(lst) == collections.Counter(lst4) == collections.Counter(lst5)\n",
    "    \n",
    "print(lst, ' ', lst4, ' ', lst5)\n",
    "\n",
    "\n",
    "    "
   ]
  },
  {
   "cell_type": "code",
   "execution_count": null,
   "metadata": {
    "collapsed": true
   },
   "outputs": [],
   "source": [
    "x = 0\n",
    "lst = []\n",
    "lst4 = []\n",
    "lst5 = []\n",
    "chkg = False\n",
    "while not chkg:\n",
    "    x += 1\n",
    "    lst = "
   ]
  },
  {
   "cell_type": "code",
   "execution_count": 8,
   "metadata": {},
   "outputs": [
    {
     "name": "stdout",
     "output_type": "stream",
     "text": [
      "9982\n"
     ]
    }
   ],
   "source": [
    "ls = []\n",
    "for a in range(2, 108):\n",
    "    for b in range(2, 102):\n",
    "        ls.append(a ** b)\n",
    "        \n",
    "print(len(set(ls)))\n",
    "    "
   ]
  },
  {
   "cell_type": "code",
   "execution_count": 17,
   "metadata": {},
   "outputs": [
    {
     "name": "stdout",
     "output_type": "stream",
     "text": [
      "248838\n",
      "33336083\n"
     ]
    }
   ],
   "source": [
    "import math\n",
    "def is_prime(n):\n",
    "    if n % 2 == 0 and n > 2: \n",
    "        return False\n",
    "    for i in range(3, int(math.sqrt(n)) + 1, 2):\n",
    "        if n % i == 0:\n",
    "            return False\n",
    "    return True\n",
    "\n",
    "def P(n, k):\n",
    "    \n",
    "    if n < 2 * k:\n",
    "        return 0\n",
    "    if k == 1:\n",
    "        if is_prime(n):\n",
    "            return 1\n",
    "        else:\n",
    "            return 0\n",
    "    if k == 2:\n",
    "        if n % 2 == 0:\n",
    "            return 1\n",
    "        if is_prime(n - 2):\n",
    "            return 1\n",
    "        else:\n",
    "            return 0\n",
    "    return 1\n",
    "    \n",
    "def S(n):\n",
    "    s = 0\n",
    "    for i in range(1, n + 1):\n",
    "        for y in range(1, n + 1):\n",
    "            s += P(i, y)\n",
    "    return s\n",
    "\n",
    "print(S(1000))\n",
    "print(S(11550))"
   ]
  }
 ],
 "metadata": {
  "kernelspec": {
   "display_name": "Python 3",
   "language": "python",
   "name": "python3"
  },
  "language_info": {
   "codemirror_mode": {
    "name": "ipython",
    "version": 3
   },
   "file_extension": ".py",
   "mimetype": "text/x-python",
   "name": "python",
   "nbconvert_exporter": "python",
   "pygments_lexer": "ipython3",
   "version": "3.6.1"
  }
 },
 "nbformat": 4,
 "nbformat_minor": 2
}
